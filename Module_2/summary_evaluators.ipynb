{
 "cells": [
  {
   "cell_type": "markdown",
   "metadata": {},
   "source": [
    "# Summary Evaluators"
   ]
  },
  {
   "cell_type": "markdown",
   "metadata": {},
   "source": [
    "### Setup"
   ]
  },
  {
   "cell_type": "code",
   "execution_count": 2,
   "metadata": {},
   "outputs": [
    {
     "data": {
      "text/plain": [
       "False"
      ]
     },
     "execution_count": 2,
     "metadata": {},
     "output_type": "execute_result"
    }
   ],
   "source": [
    "# Load environment from ../../.env\n",
    "from dotenv import load_dotenv\n",
    "load_dotenv(dotenv_path=\"../../.env\", override=True)"
   ]
  },
  {
   "cell_type": "code",
   "execution_count": 2,
   "metadata": {},
   "outputs": [],
   "source": [
    "# (Already loaded .env in the previous cell)"
   ]
  },
  {
   "cell_type": "markdown",
   "metadata": {},
   "source": [
    "### Task"
   ]
  },
  {
   "cell_type": "markdown",
   "metadata": {},
   "source": [
    "Our task here is to analyze the toxictity of random statements, classifying them as `Toxic` or `Not toxic`. \n",
    "\n",
    "Take a look at our dataset!"
   ]
  },
  {
   "cell_type": "code",
   "execution_count": 3,
   "metadata": {},
   "outputs": [],
   "source": [
    "from langsmith import Client\n",
    "\n",
    "client = Client()\n",
    "dataset = client.clone_public_dataset(\n",
    "    \"https://smith.langchain.com/public/89ef0d44-a252-4011-8bb8-6a114afc1522/d\"\n",
    ")"
   ]
  },
  {
   "cell_type": "markdown",
   "metadata": {},
   "source": [
    "This is a simple toxicity classifier!"
   ]
  },
  {
   "cell_type": "code",
   "execution_count": 4,
   "metadata": {},
   "outputs": [],
   "source": [
    "import google.generativeai as genai\n",
    "from pydantic import BaseModel, Field\n",
    "import os\n",
    "\n",
    "genai.configure(api_key=os.getenv(\"GEMINI_API_KEY\", \"\"))\n",
    "\n",
    "class Toxicity(BaseModel):\n",
    "    toxicity: str = Field(description=\"\"\"'Toxic' if this the statement is toxic, 'Not toxic' if the statement is not toxic.\"\"\")\n",
    "\n",
    "def good_classifier(inputs: dict) -> dict:\n",
    "    prompt = f\"Classify the toxicity of the following statement as 'Toxic' or 'Not toxic':\\n{inputs['statement']}\"\n",
    "    model = genai.GenerativeModel(\"models/gemini-2.5-flash\")\n",
    "    resp = model.generate_content(prompt)\n",
    "    text = getattr(resp, \"text\", \"Not toxic\")\n",
    "    toxicity = \"Toxic\" if \"Toxic\" in text else \"Not toxic\"\n",
    "    return {\"class\": toxicity}"
   ]
  },
  {
   "cell_type": "markdown",
   "metadata": {},
   "source": [
    "### Summary Evaluator"
   ]
  },
  {
   "cell_type": "markdown",
   "metadata": {},
   "source": [
    "These are the fields that summary evaluator functions get access to:\n",
    "- `inputs: list[dict]`: A list of inputs from the examples in our dataset\n",
    "- `outputs: list[dict]`: A list of the dict outputs produced from running our target over each input\n",
    "- `reference_outputs: list[dict]`: A list of reference_outputs from the examples in our dataset\n",
    "- `runs: list[Run]`: A list of the Run objects from running our target over the dataset.\n",
    "- `examples: list[Example]`: A list of the full dataset Examples, including the example inputs, outputs (if available), and metdata (if available)."
   ]
  },
  {
   "cell_type": "markdown",
   "metadata": {},
   "source": [
    "Now we'll define our summary evaluator! Here, we'll compute the f1-score, which is a combination of precision and recall.\n",
    "\n",
    "This sort of metric can only be computed over all of the examples in our experiment, so our evaluator takes in a list of outputs, and a list of reference_outputs."
   ]
  },
  {
   "cell_type": "code",
   "execution_count": 5,
   "metadata": {},
   "outputs": [],
   "source": [
    "def f1_score_summary_evaluator(outputs: list[dict], reference_outputs: list[dict]) -> dict:\n",
    "    true_positives = 0\n",
    "    false_positives = 0\n",
    "    false_negatives = 0\n",
    "    for output_dict, reference_output_dict in zip(outputs, reference_outputs):\n",
    "        output = output_dict[\"class\"]\n",
    "        reference_output = reference_output_dict[\"class\"]\n",
    "        if output == \"Toxic\" and reference_output == \"Toxic\":\n",
    "            true_positives += 1\n",
    "        elif output == \"Toxic\" and reference_output == \"Not toxic\":\n",
    "            false_positives += 1\n",
    "        elif output == \"Not toxic\" and reference_output == \"Toxic\":\n",
    "            false_negatives += 1\n",
    "\n",
    "    if true_positives == 0:\n",
    "        return {\"key\": \"f1_score\", \"score\": 0.0}\n",
    "\n",
    "    precision = true_positives / (true_positives + false_positives)\n",
    "    recall = true_positives / (true_positives + false_negatives)\n",
    "    f1_score = 2 * (precision * recall) / (precision + recall)\n",
    "    return {\"key\": \"f1_score\", \"score\": f1_score}\n"
   ]
  },
  {
   "cell_type": "markdown",
   "metadata": {},
   "source": [
    "Note that we pass in `f1_score_summary_evaluator` as a summary evaluator!"
   ]
  },
  {
   "cell_type": "code",
   "execution_count": 6,
   "metadata": {},
   "outputs": [
    {
     "name": "stdout",
     "output_type": "stream",
     "text": [
      "View the evaluation results for experiment: 'Good classifier-fe504430' at:\n",
      "https://smith.langchain.com/o/22e63b8c-9320-4dd3-b6d4-5404534c8e54/datasets/630c4d6c-9558-4d4b-9f75-8ffabb7427dc/compare?selectedSessions=ab2d02f4-00c9-457e-8bdb-1fba2eaab78e\n",
      "\n",
      "\n"
     ]
    },
    {
     "data": {
      "application/vnd.jupyter.widget-view+json": {
       "model_id": "c25e192d45a649b58e2f925d5838d624",
       "version_major": 2,
       "version_minor": 0
      },
      "text/plain": [
       "0it [00:00, ?it/s]"
      ]
     },
     "metadata": {},
     "output_type": "display_data"
    }
   ],
   "source": [
    "results = client.evaluate(\n",
    "    good_classifier,\n",
    "    data=dataset,\n",
    "    summary_evaluators=[f1_score_summary_evaluator],\n",
    "    experiment_prefix=\"Good classifier\"\n",
    ")"
   ]
  },
  {
   "cell_type": "code",
   "execution_count": null,
   "metadata": {},
   "outputs": [],
   "source": []
  }
 ],
 "metadata": {
  "kernelspec": {
   "display_name": "venv-langsmith",
   "language": "python",
   "name": "venv-langsmith"
  },
  "language_info": {
   "codemirror_mode": {
    "name": "ipython",
    "version": 3
   },
   "file_extension": ".py",
   "mimetype": "text/x-python",
   "name": "python",
   "nbconvert_exporter": "python",
   "pygments_lexer": "ipython3",
   "version": "3.13.5"
  }
 },
 "nbformat": 4,
 "nbformat_minor": 4
}
